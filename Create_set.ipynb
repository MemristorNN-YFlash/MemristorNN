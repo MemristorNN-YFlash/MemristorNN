{
 "cells": [
  {
   "cell_type": "code",
   "execution_count": 107,
   "metadata": {},
   "outputs": [],
   "source": [
    "import numpy as np\n",
    "from sklearn.model_selection import train_test_split\n",
    "from sklearn.preprocessing import normalize\n",
    "from sklearn import datasets\n",
    "import pandas as pd\n",
    "\n",
    "class sets:\n",
    "    def __init__(self,x,y, v1, v2, test_size=0.25, rnd_state=42):\n",
    "        self.xtrain_set = 0\n",
    "        self.ytrain_set = 0\n",
    "        self.xtest_set = 0\n",
    "        self.ytest_set = 0\n",
    "        self.v1 = v1\n",
    "        self.v2 = v2\n",
    "        self.x = x\n",
    "        self.y = y\n",
    "        self.rnd_state = rnd_state\n",
    "        self.test_size =test_size\n",
    "        self.create_sets()\n",
    "    \n",
    "    def create_sets(self):\n",
    "        self.x = self.norma_xy(self.x)\n",
    "        self.xtrain_set,self.xtest_set, self.ytrain_set, self.ytest_set = train_test_split(self.x, self.y.transpose(), \n",
    "                                                                                           test_size= self.test_size)\n",
    "                                                                                \n",
    "    def norma_xy(self,df):\n",
    "        ## Input dataframe - Output normalized between V_1 V_2 df\n",
    "         return (self.v2 - self.v1)*normalize(df)\n",
    "        \n",
    "    def return_classes(self):\n",
    "        return Set(self.xtrain_set, 0), Set(self.xtest_set, 0), Set(self.ytrain_set, output = 3),Set(self.ytest_set, output= 3)\n",
    "\n",
    "class Set:\n",
    "    def __init__(self,vec ,output = 0):\n",
    "        self.num_of_inputs = vec.shape[0]\n",
    "        self.current_entry = 0\n",
    "        self.vec = vec\n",
    "        if output != 0:\n",
    "            self.yvec = np.zeros([output, self.num_of_inputs])\n",
    "            self.make_output_vec()\n",
    "\n",
    "        \n",
    "    \n",
    "    def make_output_vec(self):\n",
    "        i = 0\n",
    "        for i in range(self.num_of_inputs):\n",
    "            self.yvec[self.vec[i]-1,i] =1\n",
    "        self.vec = self.yvec.transpose()\n",
    "    \n",
    "    def next_entry(self):\n",
    "        if self.current_entry + 1 <self.num_of_inputs:\n",
    "            self.current_entry = self.current_entry + 1\n",
    "        else:\n",
    "            self.reset_entry()\n",
    "            return True\n",
    "        return self.vec[self.current_entry, :]\n",
    "    \n",
    "    def current(self):\n",
    "        m = self.vec[self.current_entry,:]\n",
    "        return m\n",
    "\n",
    "    def reset_entry(self):\n",
    "        self.current_entry = 0"
   ]
  },
  {
   "cell_type": "code",
   "execution_count": 108,
   "metadata": {},
   "outputs": [],
   "source": [
    "from sklearn import datasets\n",
    "x,y = datasets.load_iris(return_X_y=True)\n",
    "\n",
    "\n",
    "NN = sets(x,y,v1=0, v2=0.05)"
   ]
  },
  {
   "cell_type": "code",
   "execution_count": 109,
   "metadata": {},
   "outputs": [],
   "source": [
    "m , n , l , p = NN.return_classes()"
   ]
  },
  {
   "cell_type": "code",
   "execution_count": 110,
   "metadata": {},
   "outputs": [
    {
     "data": {
      "text/plain": [
       "array([ 1.,  0.,  0.])"
      ]
     },
     "execution_count": 110,
     "metadata": {},
     "output_type": "execute_result"
    }
   ],
   "source": [
    "l.current()"
   ]
  },
  {
   "cell_type": "code",
   "execution_count": 64,
   "metadata": {},
   "outputs": [],
   "source": [
    "mm = Set(y_train, 3)"
   ]
  },
  {
   "cell_type": "code",
   "execution_count": 78,
   "metadata": {},
   "outputs": [
    {
     "ename": "IndexError",
     "evalue": "index 3 is out of bounds for axis 0 with size 3",
     "output_type": "error",
     "traceback": [
      "\u001b[0;31m---------------------------------------------------------------------------\u001b[0m",
      "\u001b[0;31mIndexError\u001b[0m                                Traceback (most recent call last)",
      "\u001b[0;32m<ipython-input-78-4b9a547ff79d>\u001b[0m in \u001b[0;36m<module>\u001b[0;34m\u001b[0m\n\u001b[0;32m----> 1\u001b[0;31m \u001b[0mmm\u001b[0m\u001b[0;34m.\u001b[0m\u001b[0myvec\u001b[0m\u001b[0;34m[\u001b[0m\u001b[0;36m3\u001b[0m\u001b[0;34m,\u001b[0m\u001b[0;34m:\u001b[0m\u001b[0;34m]\u001b[0m\u001b[0;34m\u001b[0m\u001b[0m\n\u001b[0m",
      "\u001b[0;31mIndexError\u001b[0m: index 3 is out of bounds for axis 0 with size 3"
     ]
    }
   ],
   "source": [
    "mm.yvec[3,"
   ]
  },
  {
   "cell_type": "code",
   "execution_count": null,
   "metadata": {},
   "outputs": [],
   "source": []
  }
 ],
 "metadata": {
  "kernelspec": {
   "display_name": "Python 3",
   "language": "python",
   "name": "python3"
  },
  "language_info": {
   "codemirror_mode": {
    "name": "ipython",
    "version": 3
   },
   "file_extension": ".py",
   "mimetype": "text/x-python",
   "name": "python",
   "nbconvert_exporter": "python",
   "pygments_lexer": "ipython3",
   "version": "3.6.2"
  }
 },
 "nbformat": 4,
 "nbformat_minor": 2
}
