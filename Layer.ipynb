{
 "cells": [
  {
   "cell_type": "code",
   "execution_count": 1,
   "metadata": {},
   "outputs": [],
   "source": [
    "from Activation import activeFunc\n",
    "from Tests import sets\n",
    "import numpy as np\n"
   ]
  },
  {
   "cell_type": "code",
   "execution_count": 8,
   "metadata": {},
   "outputs": [],
   "source": [
    "class Layer:\n",
    "    def __init__(self, insize, outsize , actvfunc , init_range, R_min=-1, R_max=1 ):\n",
    "        ## init_range - the range for the initial w\n",
    "        ## delta (batch_sizexoutput)\n",
    "        ## v (1xinput)\n",
    "        ## w (input x output)\n",
    "        self.R_min = R_min\n",
    "        self.R_max = R_max\n",
    "        self.w = init_range * np.random.uniform(R_min,R_max,[insize , outsize]) ## To-Do initializie weights to R available\n",
    "        self.insize = insize;\n",
    "        self.outsize = outsize;\n",
    "        self.actvfunc = actvfunc\n",
    "        self.v = 0\n",
    "        self.out = 0\n",
    "        self.delta = 0\n",
    "        self.first_update = True\n",
    "    \n",
    "    def calc(self,input1):\n",
    "        try:\n",
    "            #input_bias = np.append(input1, [1])\n",
    "            self.v = input1 @ self.w\n",
    "            self.out = self.actvfunc.calc(input1 @ self.w)\n",
    "        except ValueError:\n",
    "            #input_bias = np.append(input1, [1]).transpose()\n",
    "            input1 = input1.transpose()\n",
    "            self.v = input1 @ self.w\n",
    "            self.out = self.actvfunc.calc(input1 @ self.w)\n",
    "\n",
    "    def delta_calc(self, layer):\n",
    "        if self.first_update == True:\n",
    "            self.delta = np.array(self.actvfunc.derv(self.v)*(layer.delta @ layer.w.transpose()))\n",
    "            self.delta = self.delta.reshape(1,self.outsize)\n",
    "            self.first_update = False\n",
    "        else:\n",
    "            self.delta = np.append(self.delta, self.actvfunc.derv(self.v)*((layer.delta @ layer.w.transpose())),0)\n",
    "    \n",
    "    def update_w(self,eta):\n",
    "        self.w = self.w +eta*self.out.transpose() @ self.delta.transpose()\n",
    "        self.delta = 0\n",
    "        self.first_update = True"
   ]
  },
  {
   "cell_type": "code",
   "execution_count": 9,
   "metadata": {},
   "outputs": [],
   "source": [
    "x = Layer(insize=4, outsize=4, actvfunc=activeFunc('tanh'),init_range=1) \n",
    "y = Layer(insize=4, outsize=2, actvfunc=activeFunc('tanh'),init_range=1) "
   ]
  },
  {
   "cell_type": "code",
   "execution_count": 10,
   "metadata": {},
   "outputs": [],
   "source": [
    "x.calc(np.array([1, 2, 3, 4]))"
   ]
  },
  {
   "cell_type": "code",
   "execution_count": 11,
   "metadata": {},
   "outputs": [
    {
     "data": {
      "text/plain": [
       "array([[-0.86730654, -0.67841183,  0.15889415,  0.59780307],\n",
       "       [ 0.52165584,  0.67728055,  0.88230074, -0.28897256],\n",
       "       [-0.03003749,  0.63918231, -0.43366278, -0.24956869],\n",
       "       [-0.51814893, -0.61469604,  0.74529409,  0.95134967]])"
      ]
     },
     "execution_count": 11,
     "metadata": {},
     "output_type": "execute_result"
    }
   ],
   "source": [
    "x.w"
   ]
  },
  {
   "cell_type": "code",
   "execution_count": 12,
   "metadata": {},
   "outputs": [],
   "source": [
    "y.delta = np.ones([1,2])"
   ]
  },
  {
   "cell_type": "code",
   "execution_count": 13,
   "metadata": {},
   "outputs": [],
   "source": [
    "x.delta_calc(y)"
   ]
  },
  {
   "cell_type": "code",
   "execution_count": 14,
   "metadata": {},
   "outputs": [
    {
     "data": {
      "text/plain": [
       "(1, 4)"
      ]
     },
     "execution_count": 14,
     "metadata": {},
     "output_type": "execute_result"
    }
   ],
   "source": [
    "x.delta.shape"
   ]
  },
  {
   "cell_type": "code",
   "execution_count": 138,
   "metadata": {},
   "outputs": [],
   "source": [
    "x.update_w(0.1)"
   ]
  },
  {
   "cell_type": "code",
   "execution_count": 139,
   "metadata": {},
   "outputs": [
    {
     "data": {
      "text/plain": [
       "array([[-0.9312979 ,  1.00038791, -0.7809241 ,  0.66531372],\n",
       "       [-0.32726776, -0.97996147, -0.40405448, -0.31810636],\n",
       "       [ 0.56440571,  0.18961784, -0.75942415,  0.80033147],\n",
       "       [-0.18810492, -0.27101712, -0.4741923 ,  0.95124151]])"
      ]
     },
     "execution_count": 139,
     "metadata": {},
     "output_type": "execute_result"
    }
   ],
   "source": [
    "x.w"
   ]
  },
  {
   "cell_type": "code",
   "execution_count": 9,
   "metadata": {
    "slideshow": {
     "slide_type": "-"
    }
   },
   "outputs": [],
   "source": [
    "x1 = np.arange(9.0).reshape((3, 3))\n",
    "x2 = np.arange(9.0).reshape((3, 3))/2"
   ]
  },
  {
   "cell_type": "code",
   "execution_count": 11,
   "metadata": {},
   "outputs": [
    {
     "data": {
      "text/plain": [
       "array([[ 0.,  1.,  2.],\n",
       "       [ 3.,  4.,  5.],\n",
       "       [ 6.,  7.,  8.]])"
      ]
     },
     "execution_count": 11,
     "metadata": {},
     "output_type": "execute_result"
    }
   ],
   "source": [
    "x1"
   ]
  },
  {
   "cell_type": "code",
   "execution_count": 12,
   "metadata": {},
   "outputs": [
    {
     "data": {
      "text/plain": [
       "array([[ 0. ,  0.5,  1. ],\n",
       "       [ 1.5,  2. ,  2.5],\n",
       "       [ 3. ,  3.5,  4. ]])"
      ]
     },
     "execution_count": 12,
     "metadata": {},
     "output_type": "execute_result"
    }
   ],
   "source": [
    "x2"
   ]
  },
  {
   "cell_type": "code",
   "execution_count": 13,
   "metadata": {},
   "outputs": [
    {
     "data": {
      "text/plain": [
       "array([[  0. ,   0.5,   2. ],\n",
       "       [  4.5,   8. ,  12.5],\n",
       "       [ 18. ,  24.5,  32. ]])"
      ]
     },
     "execution_count": 13,
     "metadata": {},
     "output_type": "execute_result"
    }
   ],
   "source": [
    "x1*x2"
   ]
  },
  {
   "cell_type": "code",
   "execution_count": 3,
   "metadata": {},
   "outputs": [],
   "source": [
    "x = [1, 2, 3]"
   ]
  },
  {
   "cell_type": "code",
   "execution_count": 6,
   "metadata": {},
   "outputs": [],
   "source": [
    "y = iter(x)"
   ]
  },
  {
   "cell_type": "code",
   "execution_count": 8,
   "metadata": {},
   "outputs": [
    {
     "data": {
      "text/plain": [
       "1"
      ]
     },
     "execution_count": 8,
     "metadata": {},
     "output_type": "execute_result"
    }
   ],
   "source": [
    "next(y)"
   ]
  },
  {
   "cell_type": "code",
   "execution_count": 5,
   "metadata": {},
   "outputs": [],
   "source": [
    "y = np.ones([2, 2])"
   ]
  },
  {
   "cell_type": "code",
   "execution_count": 20,
   "metadata": {},
   "outputs": [],
   "source": [
    "x = np.ones([2,1])"
   ]
  },
  {
   "cell_type": "code",
   "execution_count": 21,
   "metadata": {},
   "outputs": [
    {
     "data": {
      "text/plain": [
       "array([[ 1.],\n",
       "       [ 1.]])"
      ]
     },
     "execution_count": 21,
     "metadata": {},
     "output_type": "execute_result"
    }
   ],
   "source": [
    "x"
   ]
  },
  {
   "cell_type": "code",
   "execution_count": 22,
   "metadata": {},
   "outputs": [],
   "source": [
    "z = np.append(y,x,1)"
   ]
  },
  {
   "cell_type": "code",
   "execution_count": 23,
   "metadata": {},
   "outputs": [
    {
     "data": {
      "text/plain": [
       "array([[ 1.,  1.,  1.],\n",
       "       [ 1.,  1.,  1.]])"
      ]
     },
     "execution_count": 23,
     "metadata": {},
     "output_type": "execute_result"
    }
   ],
   "source": [
    "z"
   ]
  },
  {
   "cell_type": "code",
   "execution_count": null,
   "metadata": {},
   "outputs": [],
   "source": []
  }
 ],
 "metadata": {
  "kernelspec": {
   "display_name": "Python 3",
   "language": "python",
   "name": "python3"
  },
  "language_info": {
   "codemirror_mode": {
    "name": "ipython",
    "version": 3
   },
   "file_extension": ".py",
   "mimetype": "text/x-python",
   "name": "python",
   "nbconvert_exporter": "python",
   "pygments_lexer": "ipython3",
   "version": "3.5.2"
  }
 },
 "nbformat": 4,
 "nbformat_minor": 2
}
