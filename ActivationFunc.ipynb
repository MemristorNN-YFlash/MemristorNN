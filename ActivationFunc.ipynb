{
 "cells": [
  {
   "cell_type": "code",
   "execution_count": 3,
   "metadata": {},
   "outputs": [],
   "source": [
    "import numpy as np\n",
    "\n",
    "class Tanh:\n",
    "    def calc(self, x):\n",
    "        return np.tanh(x)\n",
    "    \n",
    "    def derv(self,x):\n",
    "        return 4/((np.exp(-x)+np.exp(x))**2)\n",
    "    \n",
    "class Relu:\n",
    "    def calc(self,x):\n",
    "        if x > 0 :\n",
    "            return x\n",
    "        else: \n",
    "            return 0\n",
    "    \n",
    "    def derv(self,x):\n",
    "        if x > 0 :\n",
    "            return 1\n",
    "        else: \n",
    "            return 0        \n",
    "\n",
    "class Sigmoid:\n",
    "    def calc(self,x):\n",
    "        return (1/(1+np.exp(-x)))\n",
    "    \n",
    "    def derv(self,x):\n",
    "        return np.exp(-x)/((np.exp(-x)+1)**2)\n",
    "    \n",
    "def func(x):\n",
    "    return {\n",
    "        'tanh' : Tanh(),\n",
    "        'RelU' : Relu(),\n",
    "        'Sigmoid': Sigmoid()\n",
    "    }[x]"
   ]
  },
  {
   "cell_type": "code",
   "execution_count": 13,
   "metadata": {},
   "outputs": [],
   "source": [
    "import timeit\n",
    "x = func('Sigmoid')"
   ]
  },
  {
   "cell_type": "code",
   "execution_count": 15,
   "metadata": {},
   "outputs": [
    {
     "name": "stdout",
     "output_type": "stream",
     "text": [
      "-0.0002448879968142137\n"
     ]
    }
   ],
   "source": [
    "start, end = 0,0\n",
    "start = timeit.timeit()\n",
    "x.calc(10000000000000)\n",
    "end = timeit.timeit()\n",
    "print(end-start)"
   ]
  },
  {
   "cell_type": "code",
   "execution_count": 26,
   "metadata": {},
   "outputs": [
    {
     "data": {
      "text/plain": [
       "0.045176659730912144"
      ]
     },
     "execution_count": 26,
     "metadata": {},
     "output_type": "execute_result"
    }
   ],
   "source": [
    "y.derv(3)"
   ]
  },
  {
   "cell_type": "code",
   "execution_count": null,
   "metadata": {},
   "outputs": [],
   "source": []
  }
 ],
 "metadata": {
  "kernelspec": {
   "display_name": "Python 3",
   "language": "python",
   "name": "python3"
  },
  "language_info": {
   "codemirror_mode": {
    "name": "ipython",
    "version": 3
   },
   "file_extension": ".py",
   "mimetype": "text/x-python",
   "name": "python",
   "nbconvert_exporter": "python",
   "pygments_lexer": "ipython3",
   "version": "3.6.2"
  }
 },
 "nbformat": 4,
 "nbformat_minor": 2
}
